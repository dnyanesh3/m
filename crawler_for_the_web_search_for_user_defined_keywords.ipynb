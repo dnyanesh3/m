{
  "cells": [
    {
      "cell_type": "code",
      "execution_count": 1,
      "id": "67fa4e01",
      "metadata": {
        "id": "67fa4e01"
      },
      "outputs": [],
      "source": [
        "import requests\n",
        "url = 'https://en.wikipedia.org/wiki/Stock_market'"
      ]
    },
    {
      "cell_type": "code",
      "execution_count": 5,
      "id": "34fcf09b",
      "metadata": {
        "colab": {
          "base_uri": "https://localhost:8080/"
        },
        "id": "34fcf09b",
        "outputId": "e6915f7f-d27b-480d-8c7f-533035d533a4"
      },
      "outputs": [
        {
          "output_type": "stream",
          "name": "stdout",
          "text": [
            "Status code:  200\n",
            "Connection successfull.\n",
            "\n",
            "\n"
          ]
        }
      ],
      "source": [
        "response = requests.get(url, timeout=3) #timeout set to stop the request action in case of hanging\n",
        "print('Status code: ',response.status_code)\n",
        "if response.status_code==200:\n",
        "    print('Connection successfull.\\n\\n')\n",
        "else: \n",
        "    print('Error. Check status code table.\\n\\n') "
      ]
    },
    {
      "cell_type": "code",
      "execution_count": null,
      "id": "84e3d20b",
      "metadata": {
        "id": "84e3d20b"
      },
      "outputs": [],
      "source": [
        "print(f\"{'---'*20}\\n\\tContents of Response.items():\\n{'---'*20}\")\n",
        " "
      ]
    },
    {
      "cell_type": "code",
      "source": [
        "for k,v in response.headers.items():\n",
        "  print(f\"{k:{25}}: {v:{40}}\")"
      ],
      "metadata": {
        "id": "Da8Q3YmtrMe0"
      },
      "id": "Da8Q3YmtrMe0",
      "execution_count": null,
      "outputs": []
    },
    {
      "cell_type": "code",
      "source": [
        "for k,v in response.headers.items():\n",
        "  print(f\"{k}: {v}\")"
      ],
      "metadata": {
        "id": "FE4eWWCtrTYA"
      },
      "id": "FE4eWWCtrTYA",
      "execution_count": null,
      "outputs": []
    },
    {
      "cell_type": "code",
      "source": [
        "print(f\"Status code: {response.status_code}\") \n",
        "print(f\"Status code: {response.status_code:>{20}}\") \n",
        "print(f\"Status code: {response.status_code:->{20}}\")"
      ],
      "metadata": {
        "colab": {
          "base_uri": "https://localhost:8080/"
        },
        "id": "wHRqZ4Mpra65",
        "outputId": "cf46758a-26a8-4154-bc44-ce8d4276972a"
      },
      "id": "wHRqZ4Mpra65",
      "execution_count": 11,
      "outputs": [
        {
          "output_type": "stream",
          "name": "stdout",
          "text": [
            "Status code: 200\n",
            "Status code:                  200\n",
            "Status code: -----------------200\n"
          ]
        }
      ]
    },
    {
      "cell_type": "code",
      "execution_count": null,
      "id": "6073e094",
      "metadata": {
        "id": "6073e094"
      },
      "outputs": [],
      "source": [
        "from bs4 import BeautifulSoup\n",
        "page_content = response.content\n",
        "soup = BeautifulSoup(page_content,'lxml') #'html.parser')\n",
        "\n",
        "print(soup.prettify()[:2000])\n",
        "\n",
        "body = soup.body\n",
        "for child in body.children:\n",
        "  print(child if child is not None else ' ', '\\n\\n')  # '\\n\\n' for visual separation\n",
        "\n",
        "title = soup.head.title\n",
        "print(title.parent.name)\n",
        "\n",
        "results = soup.find_all()\n",
        "\n",
        "results"
      ]
    },
    {
      "cell_type": "code",
      "execution_count": null,
      "id": "50ed4eb9",
      "metadata": {
        "id": "50ed4eb9"
      },
      "outputs": [],
      "source": [
        ""
      ]
    }
  ],
  "metadata": {
    "kernelspec": {
      "display_name": "Python 3 (ipykernel)",
      "language": "python",
      "name": "python3"
    },
    "language_info": {
      "codemirror_mode": {
        "name": "ipython",
        "version": 3
      },
      "file_extension": ".py",
      "mimetype": "text/x-python",
      "name": "python",
      "nbconvert_exporter": "python",
      "pygments_lexer": "ipython3",
      "version": "3.10.4"
    },
    "colab": {
      "name": "crawler for the web search for user defined keywords.ipynb",
      "provenance": []
    }
  },
  "nbformat": 4,
  "nbformat_minor": 5
}