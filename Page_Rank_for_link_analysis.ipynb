{
  "cells": [
    {
      "cell_type": "code",
      "execution_count": 1,
      "id": "9f577a31",
      "metadata": {
        "id": "9f577a31"
      },
      "outputs": [],
      "source": [
        "import networkx as nx\n",
        "import random\n",
        "import numpy as np"
      ]
    },
    {
      "cell_type": "code",
      "execution_count": 2,
      "id": "d6fb3a68",
      "metadata": {
        "id": "d6fb3a68"
      },
      "outputs": [],
      "source": [
        " def add_edges(g, pr):\n",
        "\tfor each in g.nodes():\n",
        "\t\tfor each1 in g.nodes():\n",
        "\t\t\tif (each != each1):\n",
        "\t\t\t\tra = random.random()\n",
        "\t\t\t\tif (ra < pr):\n",
        "\t\t\t\t\tg.add_edge(each, each1)\n",
        "\t\t\t\telse:\n",
        "\t\t\t\t\tcontinue\n",
        "\treturn g"
      ]
    },
    {
      "cell_type": "code",
      "execution_count": 3,
      "id": "6f8aeaa9",
      "metadata": {
        "id": "6f8aeaa9"
      },
      "outputs": [],
      "source": [
        " \n",
        "def nodes_sorted(g, points):\n",
        "    t = np.array(points)\n",
        "    t = np.argsort(-t)\n",
        "    return t\n"
      ]
    },
    {
      "cell_type": "code",
      "execution_count": 4,
      "id": "185355c1",
      "metadata": {
        "id": "185355c1"
      },
      "outputs": [],
      "source": [
        " def random_Walk(g):\n",
        "\trwp = [0 for i in range(g.number_of_nodes())]\n",
        "\tnodes = list(g.nodes())\n",
        "\tr = random.choice(nodes)\n",
        "\trwp[r] += 1\n",
        "\tneigh = list(g.out_edges(r))\n",
        "\tz = 0\n",
        "\t\n",
        "\twhile (z != 10000):\n",
        "\t\tif (len(neigh) == 0):\n",
        "\t\t\tfocus = random.choice(nodes)\n",
        "\t\telse:\n",
        "\t\t\tr1 = random.choice(neigh)\n",
        "\t\t\tfocus = r1[1]\n",
        "\t\trwp[focus] += 1\n",
        "\t\tneigh = list(g.out_edges(focus))\n",
        "\t\tz += 1\n",
        "\treturn rwp\n"
      ]
    },
    {
      "cell_type": "code",
      "execution_count": null,
      "id": "b3f1c0f3",
      "metadata": {
        "id": "b3f1c0f3"
      },
      "outputs": [],
      "source": [
        "# 1.\n",
        "g = nx.DiGraph()\n",
        "N = 4\n",
        "g.add_nodes_from(range(N))\n",
        "\n",
        "# 2. Add directed edges in graph\n",
        "g = add_edges(g, 0.4)\n",
        "\n",
        "# 3. perform a random walk\n",
        "points = random_Walk(g)\n",
        "\n",
        "# 4. Get nodes rank according to their random walk points\n",
        "sorted_by_points = nodes_sorted(g, points)\n",
        "print(\"PageRank using Random Walk Method\")\n",
        "print(sorted_by_points)"
      ]
    },
    {
      "cell_type": "code",
      "execution_count": null,
      "id": "c270db31",
      "metadata": {
        "id": "c270db31"
      },
      "outputs": [],
      "source": [
        "p_dict = nx.pagerank(g)\n",
        "p_sort = sorted(p_dict.items(), key=lambda x: x[1], reverse=True)\n",
        "\n",
        "print(\"PageRank using inbuilt pagerank method\")\n",
        "for i in p_sort:\n",
        "    print(i[0], end=\", \")"
      ]
    }
  ],
  "metadata": {
    "kernelspec": {
      "display_name": "Python 3 (ipykernel)",
      "language": "python",
      "name": "python3"
    },
    "language_info": {
      "codemirror_mode": {
        "name": "ipython",
        "version": 3
      },
      "file_extension": ".py",
      "mimetype": "text/x-python",
      "name": "python",
      "nbconvert_exporter": "python",
      "pygments_lexer": "ipython3",
      "version": "3.8.0"
    },
    "colab": {
      "name": "Page Rank for link analysis.ipynb",
      "provenance": []
    }
  },
  "nbformat": 4,
  "nbformat_minor": 5
}