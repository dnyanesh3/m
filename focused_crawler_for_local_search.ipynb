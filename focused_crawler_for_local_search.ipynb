{
  "cells": [
    {
      "cell_type": "code",
      "execution_count": 1,
      "id": "4a687975",
      "metadata": {
        "id": "4a687975"
      },
      "outputs": [],
      "source": [
        "import requests\n",
        "import lxml \n",
        "from bs4 import BeautifulSoup"
      ]
    },
    {
      "cell_type": "code",
      "execution_count": 2,
      "id": "77a222b2",
      "metadata": {
        "id": "77a222b2"
      },
      "outputs": [],
      "source": [
        "url = \"https://www.rottentomatoes.com/top/bestofrt/\"\n",
        "f = requests.get(url)"
      ]
    },
    {
      "cell_type": "code",
      "execution_count": 3,
      "id": "10d78521",
      "metadata": {
        "id": "10d78521"
      },
      "outputs": [],
      "source": [
        "soup = BeautifulSoup(f.content,'lxml')"
      ]
    },
    {
      "cell_type": "code",
      "execution_count": 4,
      "id": "cb53dcac",
      "metadata": {
        "id": "cb53dcac"
      },
      "outputs": [],
      "source": [
        "movies = soup.find_all('div',{'class':'discovery-tiles__wrap'})[1].find_all('a')"
      ]
    },
    {
      "cell_type": "code",
      "execution_count": 5,
      "id": "207049ee",
      "metadata": {
        "colab": {
          "base_uri": "https://localhost:8080/"
        },
        "id": "207049ee",
        "outputId": "0775fa86-5311-46b9-9665-f9d756806dc5"
      },
      "outputs": [
        {
          "output_type": "execute_result",
          "data": {
            "text/plain": [
              "30"
            ]
          },
          "metadata": {},
          "execution_count": 5
        }
      ],
      "source": [
        "movies_list = []\n",
        "num = 0\n",
        "for movie in movies:\n",
        "  try:\n",
        "    url = 'https://www.rottentomatoes.com' + movie[\"href\"]\n",
        "    movie_f = requests.get(url)   \n",
        "    movie_page = BeautifulSoup(movie_f.content,'html')\n",
        "    num += 1\n",
        "    title = movie_page.find('h1', {'class': 'scoreboard__title'})\n",
        "    movie_content = movie_page.find('div', {'class': 'movie_synopsis'})\n",
        "    movies_list.append({\n",
        "        \"#\": num,\n",
        "        \"url\": url,\n",
        "        \"title\": title.text,\n",
        "        \"content\": movie_content.getText()\n",
        "    })\n",
        "  except:\n",
        "    continue\n",
        "\n",
        "len(movies_list)\n"
      ]
    },
    {
      "cell_type": "code",
      "execution_count": null,
      "id": "c32c480f",
      "metadata": {
        "id": "c32c480f"
      },
      "outputs": [],
      "source": [
        "for movie in movies_list[:10]:\n",
        "  print(f\"{movie['#']} \\nurl: {movie['url']} \\ntitle: {movie['title']} \\ncontent: {movie['content']}\")"
      ]
    },
    {
      "cell_type": "code",
      "execution_count": null,
      "id": "c19862de",
      "metadata": {
        "id": "c19862de"
      },
      "outputs": [],
      "source": [
        ""
      ]
    }
  ],
  "metadata": {
    "kernelspec": {
      "display_name": "Python 3 (ipykernel)",
      "language": "python",
      "name": "python3"
    },
    "language_info": {
      "codemirror_mode": {
        "name": "ipython",
        "version": 3
      },
      "file_extension": ".py",
      "mimetype": "text/x-python",
      "name": "python",
      "nbconvert_exporter": "python",
      "pygments_lexer": "ipython3",
      "version": "3.10.4"
    },
    "colab": {
      "name": "focused crawler for local search.ipynb",
      "provenance": []
    }
  },
  "nbformat": 4,
  "nbformat_minor": 5
}