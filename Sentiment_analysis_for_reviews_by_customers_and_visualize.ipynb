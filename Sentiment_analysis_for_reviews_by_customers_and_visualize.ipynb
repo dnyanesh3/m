{
  "cells": [
    {
      "cell_type": "code",
      "execution_count": 9,
      "id": "6103b80b",
      "metadata": {
        "colab": {
          "base_uri": "https://localhost:8080/"
        },
        "id": "6103b80b",
        "outputId": "01e55263-1162-499c-90d1-f18b1a31c58e"
      },
      "outputs": [
        {
          "output_type": "stream",
          "name": "stdout",
          "text": [
            "[nltk_data] Downloading package punkt to /root/nltk_data...\n",
            "[nltk_data]   Unzipping tokenizers/punkt.zip.\n",
            "[nltk_data] Downloading package vader_lexicon to /root/nltk_data...\n",
            "[nltk_data]   Package vader_lexicon is already up-to-date!\n",
            "[nltk_data] Downloading package movie_reviews to /root/nltk_data...\n",
            "[nltk_data]   Package movie_reviews is already up-to-date!\n"
          ]
        },
        {
          "output_type": "execute_result",
          "data": {
            "text/plain": [
              "True"
            ]
          },
          "metadata": {},
          "execution_count": 9
        }
      ],
      "source": [
        "import nltk\n",
        "nltk.download('punkt')\n",
        "nltk.download('vader_lexicon') \n",
        "nltk.download('movie_reviews') "
      ]
    },
    {
      "cell_type": "code",
      "execution_count": null,
      "id": "7a765e6d",
      "metadata": {
        "id": "7a765e6d"
      },
      "outputs": [],
      "source": [
        "from nltk.sentiment.vader import SentimentIntensityAnalyzer as SIA\n",
        "sia = SIA() \n",
        "sia.polarity_scores(\"This restaurant was great, but I'm not sure if I'll go there again.\")"
      ]
    },
    {
      "cell_type": "code",
      "execution_count": null,
      "id": "c5997086",
      "metadata": {
        "id": "c5997086"
      },
      "outputs": [],
      "source": [
        "text = \"I just got a call from my boss - does he realise it's Saturday?\"\n",
        "sia.polarity_scores(text)"
      ]
    },
    {
      "cell_type": "code",
      "execution_count": null,
      "id": "11df6a98",
      "metadata": {
        "id": "11df6a98"
      },
      "outputs": [],
      "source": [
        "text = \"I just got a call from my boss - does he realise it's SATURDAY?! :(\"\n",
        "sia.polarity_scores(text)"
      ]
    },
    {
      "cell_type": "code",
      "execution_count": null,
      "id": "3cacb31b",
      "metadata": {
        "id": "3cacb31b"
      },
      "outputs": [],
      "source": [
        "text = \"I just got a call from my boss - does he realise it's Saturday? 😊\"\n",
        "sia.polarity_scores(text)"
      ]
    },
    {
      "cell_type": "code",
      "execution_count": 6,
      "id": "02c74e9b",
      "metadata": {
        "id": "02c74e9b"
      },
      "outputs": [],
      "source": [
        "from textblob import TextBlob\n",
        "from textblob import Blobber\n",
        "from textblob.sentiments import NaiveBayesAnalyzer"
      ]
    },
    {
      "cell_type": "code",
      "execution_count": null,
      "id": "dbfc5ac1",
      "metadata": {
        "id": "dbfc5ac1"
      },
      "outputs": [],
      "source": [
        "blob = TextBlob(\"This restaurant was great, but I'm not sure if I'll go there again.\")\n",
        "blob.sentiment"
      ]
    },
    {
      "cell_type": "code",
      "execution_count": 10,
      "id": "c91054eb",
      "metadata": {
        "colab": {
          "base_uri": "https://localhost:8080/"
        },
        "id": "c91054eb",
        "outputId": "dfa90b46-597d-4950-e799-4f7e49462c62"
      },
      "outputs": [
        {
          "output_type": "execute_result",
          "data": {
            "text/plain": [
              "Sentiment(classification='pos', p_pos=0.5879425317005774, p_neg=0.41205746829942275)"
            ]
          },
          "metadata": {},
          "execution_count": 10
        }
      ],
      "source": [
        "blobber = Blobber(analyzer=NaiveBayesAnalyzer())\n",
        "\n",
        "blob = blobber(\"This restaurant was great, but I'm not sure if I'll go there again.\")\n",
        "blob.sentiment"
      ]
    },
    {
      "cell_type": "code",
      "execution_count": 11,
      "id": "17acdaec",
      "metadata": {
        "id": "17acdaec"
      },
      "outputs": [],
      "source": [
        "import pandas as pd"
      ]
    },
    {
      "cell_type": "code",
      "execution_count": null,
      "id": "3eb7b6cc",
      "metadata": {
        "id": "3eb7b6cc"
      },
      "outputs": [],
      "source": [
        "df = pd.DataFrame({'content': [\n",
        "    \"I love love love love this kitten\",\n",
        "    \"I hate hate hate hate this keyboard\",\n",
        "    \"I'm not sure how I feel about toast\",\n",
        "    \"Did you see the baseball game yesterday?\",\n",
        "    \"The package was delivered late and the contents were broken\",\n",
        "    \"Trashy television shows are some of my favorites\",\n",
        "    \"I'm seeing a Kubrick film tomorrow, I hear not so great things about it.\",\n",
        "    \"I find chirping birds irritating, but I know I'm not the only one\",\n",
        "]})\n",
        "df"
      ]
    },
    {
      "cell_type": "code",
      "execution_count": 13,
      "id": "692d072c",
      "metadata": {
        "id": "692d072c"
      },
      "outputs": [],
      "source": [
        "def get_scores(content):\n",
        "    blob = TextBlob(content)\n",
        "    nb_blob = blobber(content)\n",
        "    sia_scores = sia.polarity_scores(content)\n",
        "    \n",
        "    return pd.Series({\n",
        "        'content': content,\n",
        "        'textblob': blob.sentiment.polarity,\n",
        "        'textblob_bayes': nb_blob.sentiment.p_pos - nb_blob.sentiment.p_neg,\n",
        "        'nltk': sia_scores['compound'],\n",
        "    })"
      ]
    },
    {
      "cell_type": "code",
      "execution_count": null,
      "id": "03d54243",
      "metadata": {
        "id": "03d54243"
      },
      "outputs": [],
      "source": [
        "scores = df.content.apply(get_scores)\n",
        "scores.style.background_gradient(cmap='RdYlGn', axis=None, low=0.4, high=0.4)"
      ]
    },
    {
      "cell_type": "code",
      "execution_count": null,
      "id": "f379f61c",
      "metadata": {
        "id": "f379f61c"
      },
      "outputs": [],
      "source": [
        ""
      ]
    }
  ],
  "metadata": {
    "kernelspec": {
      "display_name": "Python 3 (ipykernel)",
      "language": "python",
      "name": "python3"
    },
    "language_info": {
      "codemirror_mode": {
        "name": "ipython",
        "version": 3
      },
      "file_extension": ".py",
      "mimetype": "text/x-python",
      "name": "python",
      "nbconvert_exporter": "python",
      "pygments_lexer": "ipython3",
      "version": "3.10.4"
    },
    "colab": {
      "name": "Sentiment analysis for reviews by customers and visualize.ipynb",
      "provenance": []
    }
  },
  "nbformat": 4,
  "nbformat_minor": 5
}