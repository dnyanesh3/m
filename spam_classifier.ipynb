{
  "cells": [
    {
      "cell_type": "code",
      "execution_count": 1,
      "metadata": {
        "id": "B358fOnrnniu"
      },
      "outputs": [],
      "source": [
        "import numpy as np\n",
        "import pandas as pd\n",
        "import matplotlib.pyplot as plt\n",
        "import seaborn as sns\n",
        "import scipy as sp\n",
        "from google.colab import drive\n",
        "from sklearn import feature_extraction, model_selection, naive_bayes, metrics, svm\n",
        "from sklearn.ensemble import RandomForestClassifier\n",
        "from sklearn.model_selection import train_test_split\n",
        "from sklearn.metrics import precision_recall_fscore_support as score"
      ]
    },
    {
      "cell_type": "code",
      "execution_count": null,
      "metadata": {
        "id": "2WMP1h7On58x"
      },
      "outputs": [],
      "source": [
        "drive.mount('/content/drive')"
      ]
    },
    {
      "cell_type": "code",
      "execution_count": null,
      "metadata": {
        "id": "SY8c6zxxpo_F"
      },
      "outputs": [],
      "source": [
        "dataset =pd.read_csv(\"/content/drive/My Drive/spam.csv\", encoding='latin-1')"
      ]
    },
    {
      "cell_type": "code",
      "execution_count": null,
      "metadata": {
        "id": "UctAnYVUqfuZ"
      },
      "outputs": [],
      "source": [
        "dataset.head()"
      ]
    },
    {
      "cell_type": "code",
      "execution_count": null,
      "metadata": {
        "id": "ob0hpuIXq0F3"
      },
      "outputs": [],
      "source": [
        "dataset = dataset.drop('Unnamed: 2', 1)\n",
        "dataset = dataset.drop('Unnamed: 3', 1)\n",
        "dataset = dataset.drop('Unnamed: 4', 1)\n",
        "dataset.head()\n"
      ]
    },
    {
      "cell_type": "code",
      "execution_count": null,
      "metadata": {
        "id": "KyvyCk7pq6SP"
      },
      "outputs": [],
      "source": [
        "dataset = dataset.rename(columns = {'v1':'label','v2':'message'})"
      ]
    },
    {
      "cell_type": "code",
      "execution_count": null,
      "metadata": {
        "id": "5Ip5Y_SMq_yH"
      },
      "outputs": [],
      "source": [
        "dataset.groupby('label').describe()"
      ]
    },
    {
      "cell_type": "code",
      "execution_count": null,
      "metadata": {
        "id": "U3BeG4XhrBvN"
      },
      "outputs": [],
      "source": [
        "dataset.head(4)"
      ]
    },
    {
      "cell_type": "code",
      "execution_count": null,
      "metadata": {
        "id": "3WbwXlEKrFsd"
      },
      "outputs": [],
      "source": [
        "count_Class=pd.value_counts(dataset[\"label\"], sort= True)\n",
        "count_Class.plot(kind = 'bar',color = [\"green\",\"red\"])\n",
        "plt.title('Bar Plot')\n",
        "plt.show();"
      ]
    },
    {
      "cell_type": "code",
      "execution_count": null,
      "metadata": {
        "colab": {
          "base_uri": "https://localhost:8080/"
        },
        "id": "fglV1UesrMIt",
        "outputId": "de2eb6e6-e039-43f4-e196-87b47c646df9"
      },
      "outputs": [
        {
          "data": {
            "text/plain": [
              "(5572, 8404)"
            ]
          },
          "execution_count": 17,
          "metadata": {},
          "output_type": "execute_result"
        }
      ],
      "source": [
        "f = feature_extraction.text.CountVectorizer(stop_words = 'english')\n",
        "X = f.fit_transform(dataset[\"message\"])\n",
        "np.shape(X)"
      ]
    },
    {
      "cell_type": "code",
      "execution_count": null,
      "metadata": {
        "id": "e3E13KnjrUNd"
      },
      "outputs": [],
      "source": [
        " \n",
        "dataset[\"label\"]=dataset[\"label\"].map({'spam':1,'ham':0})\n",
        "X_train, X_test, y_train, y_test = model_selection.train_test_split(X, dataset['label'], test_size=0.70, random_state=42)\n",
        "\n",
        "list_alpha = np.arange(1/100000, 20, 0.11)\n",
        "score_train = np.zeros(len(list_alpha))\n",
        "score_test = np.zeros(len(list_alpha))\n",
        "recall_test = np.zeros(len(list_alpha))\n",
        "precision_test= np.zeros(len(list_alpha))\n",
        "count = 0\n",
        "for alpha in list_alpha:\n",
        "    bayes = naive_bayes.MultinomialNB(alpha=alpha)\n",
        "    bayes.fit(X_train, y_train)\n",
        "    score_train[count] = bayes.score(X_train, y_train)\n",
        "    score_test[count]= bayes.score(X_test, y_test)\n",
        "    recall_test[count] = metrics.recall_score(y_test, bayes.predict(X_test))\n",
        "    precision_test[count] = metrics.precision_score(y_test, bayes.predict(X_test))\n",
        "    count = count + 1\n",
        "\n",
        "matrix = np.matrix(np.c_[list_alpha, score_train, score_test, recall_test, precision_test])\n",
        "models = pd.DataFrame(data = matrix, columns = \n",
        "             ['alpha', 'Train Accuracy', 'Test Accuracy', 'Test Recall', 'Test Precision'])\n",
        "models.head(n=10)\n",
        "\n",
        "best_index = models['Test Precision'].idxmax()\n",
        "models.iloc[best_index, :]\n",
        "\n",
        "rf = RandomForestClassifier(n_estimators=100,max_depth=None,n_jobs=-1)\n",
        "rf_model = rf.fit(X_train,y_train)\n",
        "\n",
        "y_pred=rf_model.predict(X_test)\n",
        "precision,recall,fscore,support =score(y_test,y_pred,pos_label=1, average ='binary')\n",
        "print('Precision : {} / Recall : {} / fscore : {} / Accuracy: {}'.format(round(precision,3),round(recall,3),round(fscore,3),round((y_pred==y_test).sum()/len(y_test),3)))\n"
      ]
    },
    {
      "cell_type": "code",
      "execution_count": null,
      "metadata": {
        "id": "JTvfSkD8rjnS"
      },
      "outputs": [],
      "source": [
        "!pip install keras.utils\n",
        "\n",
        "import tensorflow as tf\n",
        "from keras.preprocessing.text import Tokenizer\n",
        "from keras.layers import Embedding, LSTM, Dropout, Dense\n",
        "from keras.models import Sequential\n",
        "from tensorflow.keras.utils import to_categorical\n",
        "from keras.preprocessing.sequence import pad_sequences\n",
        "import tensorflow as tf\n",
        "\n",
        "vocab_size = 400\n",
        "oov_tok = \"<OOV>\"\n",
        "max_length = 250\n",
        "embedding_dim = 16\n",
        "encode = ({'ham': 0, 'spam': 1} )\n",
        "dataset = dataset.replace(encode)\n",
        "\n",
        "X = dataset['message']\n",
        "Y = dataset['label']\n",
        "tokenizer = Tokenizer(num_words=vocab_size, oov_token=oov_tok)\n",
        "tokenizer.fit_on_texts(X)\n",
        " X = tokenizer.texts_to_sequences(X)\n",
        "\n",
        "X = np.array(X)\n",
        "y = np.array(Y)\n",
        "\n",
        "X = pad_sequences(X, maxlen=max_length)\n",
        "\n",
        "model = tf.keras.Sequential([\n",
        "    tf.keras.layers.Embedding(vocab_size, embedding_dim, input_length=max_length),\n",
        "    tf.keras.layers.GlobalAveragePooling1D(),\n",
        "    tf.keras.layers.Dense(24, activation='relu'),\n",
        "    tf.keras.layers.Dense(1, activation='sigmoid')\n",
        "])\n",
        "model.compile(loss='binary_crossentropy',optimizer='adam',metrics=['accuracy'])\n",
        "model.summary()\n",
        "\n",
        "num_epochs = 50\n",
        "X_train, X_test, y_train, y_test = train_test_split(X, Y, test_size=.20, random_state=7)\n",
        "history = model.fit(X_train, y_train, epochs=num_epochs, validation_data=(X_test,y_test), verbose=2)\n",
        "\n",
        "results = model.evaluate(X_test, y_test)\n",
        "loss = results[0]\n",
        "accuracy = results[1]\n",
        "\n",
        "\n",
        "print(f\"[+] Accuracy: {accuracy*100:.2f}%\")\n",
        "\n",
        "from keras.preprocessing import sequence\n",
        "\n",
        "def get_predictions(txts):\n",
        "    txts = tokenizer.texts_to_sequences(txts)\n",
        "    txts = sequence.pad_sequences(txts, maxlen=max_length)\n",
        "    preds = model.predict(txts)\n",
        "    if(preds[0] > 0.5):\n",
        "        print(\"SPAM MESSAGE\")\n",
        "        \n",
        "    else:\n",
        "        print('NOT SPAM')\n",
        "\n",
        "txts=[\"You have won a free ticket to las vegas. Contact now\"]\n",
        "\n",
        "get_predictions(txts)\n",
        "\n",
        "txts=[\"Hey there call me asap!!\"]\n",
        "\n",
        "get_predictions(txts)"
      ]
    }
  ],
  "metadata": {
    "colab": {
      "name": " spam classifier.ipynb",
      "provenance": []
    },
    "kernelspec": {
      "display_name": "Python 3 (ipykernel)",
      "language": "python",
      "name": "python3"
    },
    "language_info": {
      "codemirror_mode": {
        "name": "ipython",
        "version": 3
      },
      "file_extension": ".py",
      "mimetype": "text/x-python",
      "name": "python",
      "nbconvert_exporter": "python",
      "pygments_lexer": "ipython3",
      "version": "3.8.0"
    }
  },
  "nbformat": 4,
  "nbformat_minor": 0
}