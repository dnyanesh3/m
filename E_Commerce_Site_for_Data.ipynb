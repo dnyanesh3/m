{
  "cells": [
    {
      "cell_type": "code",
      "execution_count": null,
      "metadata": {
        "id": "2ihQOMcrgmW_"
      },
      "outputs": [],
      "source": [
        "pip install kora -q\n"
      ]
    },
    {
      "cell_type": "code",
      "execution_count": 2,
      "metadata": {
        "id": "4FswEd-8gy2f"
      },
      "outputs": [],
      "source": [
        "import csv\n",
        "from bs4 import BeautifulSoup\n"
      ]
    },
    {
      "cell_type": "code",
      "execution_count": 3,
      "metadata": {
        "id": "vHiFWN9Ug357"
      },
      "outputs": [],
      "source": [
        "from kora.selenium import wd\n",
        "wd.get('https://www.amazon.in/')"
      ]
    },
    {
      "cell_type": "code",
      "execution_count": null,
      "metadata": {
        "id": "W5k_9gF-hI66"
      },
      "outputs": [],
      "source": [
        "wd.page_source"
      ]
    },
    {
      "cell_type": "code",
      "execution_count": 5,
      "metadata": {
        "id": "rgzoLLjuhNuW"
      },
      "outputs": [],
      "source": [
        "from selenium import webdriver\n",
        "options = webdriver.ChromeOptions()\n",
        "options.add_argument('-headless')\n",
        "options.add_argument('-no-sandbox')\n",
        "options.add_argument('-disable-dev-shm-usage')"
      ]
    },
    {
      "cell_type": "code",
      "execution_count": null,
      "metadata": {
        "id": "oZtduG8DhZ86"
      },
      "outputs": [],
      "source": [
        "wd = webdriver.Chrome('chromedriver',options=options)\n",
        "wd.get(\"https://www.amazon.in/\")\n",
        "print(wd.page_source) # results"
      ]
    },
    {
      "cell_type": "code",
      "execution_count": 7,
      "metadata": {
        "id": "fvy9M5nFhnAW"
      },
      "outputs": [],
      "source": [
        "def get_url(search_term):\n",
        "  template = \"https://www.amazon.in/s?k={}&rh=n%3A1389401031&ref=nb_sb_noss\"\n",
        "  search_term = search_term.replace(' ','+')\n",
        "  return template.format(search_term)"
      ]
    },
    {
      "cell_type": "code",
      "execution_count": null,
      "metadata": {
        "id": "S_aW8k6khrTx"
      },
      "outputs": [],
      "source": [
        "url = get_url('laptops')\n",
        "print(url)"
      ]
    },
    {
      "cell_type": "code",
      "execution_count": null,
      "metadata": {
        "id": "WW6tvdKvhx_v"
      },
      "outputs": [],
      "source": [
        "wd.get(url)\n",
        "soup = BeautifulSoup(wd.page_source, 'html.parser')\n",
        "\n",
        "result = soup.find_all('div',{'data-component-type':'s-search-result'})\n",
        "len(result)\n",
        "print(result[2])"
      ]
    },
    {
      "cell_type": "code",
      "execution_count": null,
      "metadata": {
        "id": "bXtX3pj9h8QF"
      },
      "outputs": [],
      "source": [
        "item = result[2]\n",
        "\n",
        "atag = item.h2.a\n",
        "\n",
        "atag.text"
      ]
    },
    {
      "cell_type": "code",
      "execution_count": null,
      "metadata": {
        "id": "ycFcMu3miCUP"
      },
      "outputs": [],
      "source": [
        "price_parent = item.find('span','a-price')\n",
        "\n",
        "price_parent.find('span','a-offscreen').text\n",
        "\n"
      ]
    },
    {
      "cell_type": "code",
      "execution_count": null,
      "metadata": {
        "id": "wehlWUdqicWt"
      },
      "outputs": [],
      "source": [
        "rating = item.i.text\n",
        "print(rating)"
      ]
    },
    {
      "cell_type": "code",
      "execution_count": null,
      "metadata": {
        "id": "n2pDfxzWikyV"
      },
      "outputs": [],
      "source": [
        "review_count = item.find('span', {'class':'a-size-base','dir':'auto'})\n",
        "\n",
        "print(review_count)"
      ]
    },
    {
      "cell_type": "code",
      "execution_count": 14,
      "metadata": {
        "id": "4c-gPM9YkSlg"
      },
      "outputs": [],
      "source": [
        "def extract_record(item1):\n",
        "  atag = item1.h2.a\n",
        "  description = atag.text.strip()\n",
        "  url = \"https://www.amazon.in/\" + atag.get('href')\n",
        "\n",
        "  price_parent = item1.find('span','a-price')\n",
        "  #price_parent.find('span','a-offscreen').text\n",
        "\n",
        "  rating = \"\"\n",
        "  result = (description, price_parent, rating)\n",
        "  return result"
      ]
    },
    {
      "cell_type": "code",
      "execution_count": 15,
      "metadata": {
        "id": "v52eSEd2kZic"
      },
      "outputs": [],
      "source": [
        "url = get_url('mouse')\n",
        "\n",
        "\n",
        "wd.get(url)\n",
        "soup = BeautifulSoup(wd.page_source, 'html.parser')\n",
        "records = []\n",
        "results = soup.find_all('div',{'data-component-type':'s-search-result'})\n",
        "\n",
        "\n"
      ]
    },
    {
      "cell_type": "code",
      "execution_count": null,
      "metadata": {
        "id": "yWBAyOTHudu7"
      },
      "outputs": [],
      "source": [
        "for item in results:\n",
        "  records.append(extract_record(item))\n",
        "\n",
        "\n",
        "records[0]\n",
        "print(\"printing records\")\n",
        "for x in range(len(records)):\n",
        "  print(records[x])"
      ]
    }
  ],
  "metadata": {
    "colab": {
      "name": "E-Commerce Site for Data.ipynb",
      "provenance": []
    },
    "kernelspec": {
      "display_name": "Python 3 (ipykernel)",
      "language": "python",
      "name": "python3"
    },
    "language_info": {
      "codemirror_mode": {
        "name": "ipython",
        "version": 3
      },
      "file_extension": ".py",
      "mimetype": "text/x-python",
      "name": "python",
      "nbconvert_exporter": "python",
      "pygments_lexer": "ipython3",
      "version": "3.8.0"
    }
  },
  "nbformat": 4,
  "nbformat_minor": 0
}