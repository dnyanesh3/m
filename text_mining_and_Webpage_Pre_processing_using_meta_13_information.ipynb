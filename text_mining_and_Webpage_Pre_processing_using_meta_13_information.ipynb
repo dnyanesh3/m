{
  "cells": [
    {
      "cell_type": "code",
      "execution_count": 1,
      "id": "b6303352",
      "metadata": {
        "id": "b6303352"
      },
      "outputs": [],
      "source": [
        "import requests\n",
        "import numpy as np\n",
        "import pandas as pd\n",
        "from bs4 import BeautifulSoup\n",
        "import matplotlib.pyplot as plt"
      ]
    },
    {
      "cell_type": "code",
      "execution_count": 3,
      "id": "247bdd74",
      "metadata": {
        "colab": {
          "base_uri": "https://localhost:8080/",
          "height": 36
        },
        "id": "247bdd74",
        "outputId": "3f8343e8-1dfa-44fb-d99e-5ea04f7588a8"
      },
      "outputs": [
        {
          "output_type": "execute_result",
          "data": {
            "text/plain": [
              "'IMDb: Ratings, Reviews, and Where to Watch the Best Movies & TV Shows'"
            ],
            "application/vnd.google.colaboratory.intrinsic+json": {
              "type": "string"
            }
          },
          "metadata": {},
          "execution_count": 3
        }
      ],
      "source": [
        "imdb_url = 'https://www.imdb.com'\n",
        "\n",
        "imdb_response = requests.get(imdb_url)\n",
        "\n",
        "imdb_soup = BeautifulSoup(imdb_response.text, 'html.parser')\n",
        "\n",
        "imdb_soup.title.text"
      ]
    },
    {
      "cell_type": "code",
      "execution_count": 4,
      "id": "29c6f1cd",
      "metadata": {
        "id": "29c6f1cd"
      },
      "outputs": [],
      "source": [
        " \n",
        "links = [link.get('href') for link in imdb_soup.find_all('a')]\n",
        "\n",
        "fixed_links = set([''.join([imdb_url, link]) for link in links if link])\n",
        "\n",
        "\n",
        "unique_links = []\n",
        "for link in links:\n",
        "    if not link in unique_links:\n",
        "        unique_links.append(imdb_url + link)"
      ]
    },
    {
      "cell_type": "code",
      "execution_count": 6,
      "id": "f6616ff8",
      "metadata": {
        "id": "f6616ff8"
      },
      "outputs": [],
      "source": [
        "boxofficemojo_url = 'https://www.boxofficemojo.com/intl/uk/?yr=2019&wk=33&currency=local'\n",
        "bom_response = requests.get(boxofficemojo_url)\n",
        "bom_soup = BeautifulSoup(bom_response.text, 'html.parser')"
      ]
    },
    {
      "cell_type": "code",
      "execution_count": null,
      "id": "0fe0d2b8",
      "metadata": {
        "id": "0fe0d2b8"
      },
      "outputs": [],
      "source": [
        "print(f\"NUMBER OF TABLES IN THE PAGE: {len(bom_soup.find_all('table'))}\")\n",
        "\n",
        "table = bom_soup.find_all('table')[0]\n",
        "\n",
        "table"
      ]
    },
    {
      "cell_type": "code",
      "execution_count": null,
      "id": "31525081",
      "metadata": {
        "id": "31525081"
      },
      "outputs": [],
      "source": [
        "table.find_all('tr')[0].contents"
      ]
    },
    {
      "cell_type": "code",
      "execution_count": null,
      "id": "caee8477",
      "metadata": {
        "id": "caee8477"
      },
      "outputs": [],
      "source": [
        "table.find_all('tr')[0].text.split('\\n')"
      ]
    },
    {
      "cell_type": "code",
      "execution_count": null,
      "id": "ddd2e93d",
      "metadata": {
        "id": "ddd2e93d"
      },
      "outputs": [],
      "source": [
        "lst = []\n",
        "for row in table.find_all('tr')[1:]:\n",
        "    s = pd.Series([data.text for data in row.find_all('td')])\n",
        "    lst.append(s)\n",
        "    \n",
        "data = pd.concat(lst, axis=1).T\n",
        "\n",
        "data.head(2)\n",
        "\n",
        "print(f'(MOVIES, COLUMNS) -> {data.shape}')\n",
        "\n",
        "print(f'% OF MISSING VALUES PER COLUMN\\n{(data.isnull().sum() / data.shape[0]) * 100}')"
      ]
    },
    {
      "cell_type": "code",
      "execution_count": null,
      "id": "c10f9614",
      "metadata": {
        "id": "c10f9614"
      },
      "outputs": [],
      "source": [
        ""
      ]
    }
  ],
  "metadata": {
    "kernelspec": {
      "display_name": "Python 3 (ipykernel)",
      "language": "python",
      "name": "python3"
    },
    "language_info": {
      "codemirror_mode": {
        "name": "ipython",
        "version": 3
      },
      "file_extension": ".py",
      "mimetype": "text/x-python",
      "name": "python",
      "nbconvert_exporter": "python",
      "pygments_lexer": "ipython3",
      "version": "3.10.4"
    },
    "colab": {
      "name": "text mining and Webpage Pre-processing using meta 13 information.ipynb",
      "provenance": []
    }
  },
  "nbformat": 4,
  "nbformat_minor": 5
}